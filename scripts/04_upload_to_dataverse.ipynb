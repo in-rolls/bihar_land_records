{
 "cells": [
  {
   "cell_type": "code",
   "execution_count": 1,
   "metadata": {},
   "outputs": [],
   "source": [
    "# Dataverse API Token\n",
    "# https://dataverse.harvard.edu/dataverseuser.xhtml?selectTab=apiTokenTab\n",
    "host = 'https://dataverse.harvard.edu'\n",
    "token = '<API TOKEN>'\n",
    "doi = 'doi:10.7910/DVN/BI4KZS'"
   ]
  },
  {
   "cell_type": "code",
   "execution_count": 2,
   "metadata": {},
   "outputs": [],
   "source": [
    "from pyDataverse.api import Api"
   ]
  },
  {
   "cell_type": "code",
   "execution_count": 3,
   "metadata": {},
   "outputs": [],
   "source": [
    "from pyDataverse.models import Dataverse"
   ]
  },
  {
   "cell_type": "code",
   "execution_count": 4,
   "metadata": {},
   "outputs": [
    {
     "data": {
      "text/plain": [
       "'OK'"
      ]
     },
     "execution_count": 4,
     "metadata": {},
     "output_type": "execute_result"
    }
   ],
   "source": [
    "api = Api('https://dataverse.harvard.edu/', token)\n",
    "api.status"
   ]
  },
  {
   "cell_type": "code",
   "execution_count": 5,
   "metadata": {},
   "outputs": [
    {
     "data": {
      "text/plain": [
       "{'status': 'OK',\n",
       " 'data': {'id': 6405091,\n",
       "  'identifier': 'DVN/BI4KZS',\n",
       "  'persistentUrl': 'https://doi.org/10.7910/DVN/BI4KZS',\n",
       "  'protocol': 'doi',\n",
       "  'authority': '10.7910',\n",
       "  'publisher': 'Harvard Dataverse',\n",
       "  'storageIdentifier': 's3://10.7910/DVN/BI4KZS',\n",
       "  'metadataLanguage': 'undefined',\n",
       "  'latestVersion': {'id': 330598,\n",
       "   'datasetId': 6405091,\n",
       "   'datasetPersistentId': 'doi:10.7910/DVN/BI4KZS',\n",
       "   'storageIdentifier': 's3://10.7910/DVN/BI4KZS',\n",
       "   'versionState': 'DRAFT',\n",
       "   'lastUpdateTime': '2022-07-30T22:06:37Z',\n",
       "   'createTime': '2022-07-30T22:06:37Z',\n",
       "   'license': {'name': 'CC0 1.0',\n",
       "    'uri': 'http://creativecommons.org/publicdomain/zero/1.0'},\n",
       "   'fileAccessRequest': True,\n",
       "   'metadataBlocks': {'citation': {'displayName': 'Citation Metadata',\n",
       "     'name': 'citation',\n",
       "     'fields': [{'typeName': 'title',\n",
       "       'multiple': False,\n",
       "       'typeClass': 'primitive',\n",
       "       'value': 'Bihar Land Records (2022)'},\n",
       "      {'typeName': 'author',\n",
       "       'multiple': True,\n",
       "       'typeClass': 'compound',\n",
       "       'value': [{'authorName': {'typeName': 'authorName',\n",
       "          'multiple': False,\n",
       "          'typeClass': 'primitive',\n",
       "          'value': 'Sood, Gaurav'}}]},\n",
       "      {'typeName': 'datasetContact',\n",
       "       'multiple': True,\n",
       "       'typeClass': 'compound',\n",
       "       'value': [{'datasetContactName': {'typeName': 'datasetContactName',\n",
       "          'multiple': False,\n",
       "          'typeClass': 'primitive',\n",
       "          'value': 'Sood, Gaurav'},\n",
       "         'datasetContactEmail': {'typeName': 'datasetContactEmail',\n",
       "          'multiple': False,\n",
       "          'typeClass': 'primitive',\n",
       "          'value': 'gsood07@gmail.com'}}]},\n",
       "      {'typeName': 'dsDescription',\n",
       "       'multiple': True,\n",
       "       'typeClass': 'compound',\n",
       "       'value': [{'dsDescriptionValue': {'typeName': 'dsDescriptionValue',\n",
       "          'multiple': False,\n",
       "          'typeClass': 'primitive',\n",
       "          'value': 'Bihar Land Records (2022)'}}]},\n",
       "      {'typeName': 'subject',\n",
       "       'multiple': True,\n",
       "       'typeClass': 'controlledVocabulary',\n",
       "       'value': ['Social Sciences']},\n",
       "      {'typeName': 'depositor',\n",
       "       'multiple': False,\n",
       "       'typeClass': 'primitive',\n",
       "       'value': 'Sood, Gaurav'},\n",
       "      {'typeName': 'dateOfDeposit',\n",
       "       'multiple': False,\n",
       "       'typeClass': 'primitive',\n",
       "       'value': '2022-07-30'}]}},\n",
       "   'files': []}}}"
      ]
     },
     "execution_count": 5,
     "metadata": {},
     "output_type": "execute_result"
    }
   ],
   "source": [
    "resp = api.get_dataset(doi)\n",
    "resp.json()"
   ]
  },
  {
   "cell_type": "code",
   "execution_count": 6,
   "metadata": {},
   "outputs": [
    {
     "name": "stdout",
     "output_type": "stream",
     "text": [
      "{'status': 'OK', 'data': {'files': [{'description': '', 'label': 'district.csv.gz', 'restricted': False, 'version': 1, 'datasetVersionId': 330598, 'dataFile': {'id': 6443375, 'persistentId': '', 'pidURL': '', 'filename': 'district.csv.gz', 'contentType': 'application/gzip', 'filesize': 3093, 'description': '', 'storageIdentifier': 's3://dvn-cloud:182f75c179d-8a5079ef6547', 'rootDataFileId': -1, 'md5': '10d4d0c44a74eb1891f96eb2db4063d8', 'checksum': {'type': 'MD5', 'value': '10d4d0c44a74eb1891f96eb2db4063d8'}, 'creationDate': '2022-09-01'}}]}}\n"
     ]
    }
   ],
   "source": [
    "fn = 'district.csv.gz'\n",
    "resp = api.upload_file(doi, fn)\n",
    "print(resp)"
   ]
  },
  {
   "cell_type": "code",
   "execution_count": 7,
   "metadata": {},
   "outputs": [
    {
     "name": "stdout",
     "output_type": "stream",
     "text": [
      "{'status': 'OK', 'data': {'files': [{'description': '', 'label': 'excel.tar.gz', 'restricted': False, 'version': 1, 'datasetVersionId': 330598, 'dataFile': {'id': 6443376, 'persistentId': '', 'pidURL': '', 'filename': 'excel.tar.gz', 'contentType': 'application/gzip', 'filesize': 1950336, 'description': '', 'storageIdentifier': 's3://dvn-cloud:182f75c2280-6e46652794c5', 'rootDataFileId': -1, 'md5': 'b40efba6c0d7dacf6e43becf978c2a7b', 'checksum': {'type': 'MD5', 'value': 'b40efba6c0d7dacf6e43becf978c2a7b'}, 'creationDate': '2022-09-01'}}]}}\n"
     ]
    }
   ],
   "source": [
    "fn = 'excel.tar.gz'\n",
    "resp = api.upload_file(doi, fn)\n",
    "print(resp)"
   ]
  },
  {
   "cell_type": "code",
   "execution_count": 8,
   "metadata": {},
   "outputs": [
    {
     "name": "stdout",
     "output_type": "stream",
     "text": [
      "{'status': 'OK', 'data': {'files': [{'description': '', 'label': 'account.csv.gz', 'restricted': False, 'version': 1, 'datasetVersionId': 330598, 'dataFile': {'id': 6443377, 'persistentId': '', 'pidURL': '', 'filename': 'account.csv.gz', 'contentType': 'application/gzip', 'filesize': 697825613, 'description': '', 'storageIdentifier': 's3://dvn-cloud:182f75c652a-1c9b5803e9ec', 'rootDataFileId': -1, 'md5': '0e4b78fda4380154909d7085b2b80c26', 'checksum': {'type': 'MD5', 'value': '0e4b78fda4380154909d7085b2b80c26'}, 'creationDate': '2022-09-01'}}]}}\n"
     ]
    }
   ],
   "source": [
    "fn = 'account.csv.gz'\n",
    "resp = api.upload_file(doi, fn)\n",
    "print(resp)"
   ]
  },
  {
   "cell_type": "code",
   "execution_count": 9,
   "metadata": {},
   "outputs": [
    {
     "name": "stdout",
     "output_type": "stream",
     "text": [
      "{'status': 'OK', 'data': {'files': [{'description': '', 'label': 'rights.csv.gz.partaa', 'restricted': False, 'version': 1, 'datasetVersionId': 330598, 'dataFile': {'id': 6443378, 'persistentId': '', 'pidURL': '', 'filename': 'rights.csv.gz.partaa', 'contentType': 'application/gzip', 'filesize': 2147483648, 'description': '', 'storageIdentifier': 's3://dvn-cloud:182f75d0277-e784074d05ad', 'rootDataFileId': -1, 'md5': 'c3979faa8bad75e293d58c19ade94201', 'checksum': {'type': 'MD5', 'value': 'c3979faa8bad75e293d58c19ade94201'}, 'creationDate': '2022-09-01'}}]}}\n"
     ]
    }
   ],
   "source": [
    "fn = 'rights.csv.gz.partaa'\n",
    "resp = api.upload_file(doi, fn)\n",
    "print(resp)"
   ]
  },
  {
   "cell_type": "code",
   "execution_count": 10,
   "metadata": {},
   "outputs": [
    {
     "name": "stdout",
     "output_type": "stream",
     "text": [
      "{'status': 'OK', 'data': {'files': [{'description': '', 'label': 'rights.csv.gz.partab', 'restricted': False, 'version': 1, 'datasetVersionId': 330598, 'dataFile': {'id': 6443379, 'persistentId': '', 'pidURL': '', 'filename': 'rights.csv.gz.partab', 'contentType': 'application/octet-stream', 'filesize': 1394637565, 'description': '', 'storageIdentifier': 's3://dvn-cloud:182f75db848-eb520d002856', 'rootDataFileId': -1, 'md5': 'e988c8c3d40d34ac803720b805bea68f', 'checksum': {'type': 'MD5', 'value': 'e988c8c3d40d34ac803720b805bea68f'}, 'creationDate': '2022-09-01'}}]}}\n"
     ]
    }
   ],
   "source": [
    "fn = 'rights.csv.gz.partab'\n",
    "resp = api.upload_file(doi, fn)\n",
    "print(resp)"
   ]
  },
  {
   "cell_type": "code",
   "execution_count": null,
   "metadata": {},
   "outputs": [],
   "source": []
  }
 ],
 "metadata": {
  "kernelspec": {
   "display_name": "Python 3",
   "language": "python",
   "name": "python3"
  },
  "language_info": {
   "codemirror_mode": {
    "name": "ipython",
    "version": 3
   },
   "file_extension": ".py",
   "mimetype": "text/x-python",
   "name": "python",
   "nbconvert_exporter": "python",
   "pygments_lexer": "ipython3",
   "version": "3.9.5"
  }
 },
 "nbformat": 4,
 "nbformat_minor": 2
}
